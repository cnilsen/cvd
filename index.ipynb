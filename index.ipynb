{
 "cells": [
  {
   "cell_type": "code",
   "execution_count": null,
   "metadata": {},
   "outputs": [],
   "source": [
    "from datetime import datetime, date\n",
    "\n",
    "import numpy\n",
    "import pandas\n",
    "import altair\n",
    "import ipywidgets\n",
    "\n",
    "import cvd\n",
    "\n",
    "data = cvd.load_data()\n",
    "\n",
    "cumxtab = cvd.cumulative_xtab(data, 'Subset')\n",
    "us_data = cvd.get_us_state_data(data)\n",
    "\n",
    "dates = us_data['Date'].unique()\n",
    "options = [pandas.Timestamp(d).strftime('%m/%d') for d in dates]\n",
    "\n",
    "@ipywidgets.interact(\n",
    "    us_data=ipywidgets.fixed(us_data),\n",
    "    state=ipywidgets.Dropdown(\n",
    "        options=cvd._state_abbrev.items(),\n",
    "        value='US',\n",
    "        description='Pick a State:',\n",
    "        disabled=False\n",
    "    ),\n",
    "    dates=ipywidgets.SelectionRangeSlider(\n",
    "        index=(0, len(dates)-1),\n",
    "        options=options,\n",
    "        description='Dates',\n",
    "        disabled=False,\n",
    "        layout=ipywidgets.Layout(width='85%'),\n",
    "        continuous_update=False\n",
    "    )\n",
    ")\n",
    "def state_chart(us_data, state, dates):\n",
    "    if state == 'US':\n",
    "        data = cvd._us_data(us_data, dates)\n",
    "    else:\n",
    "        data = cvd._state_data(us_data, state, dates)\n",
    "    return cvd._area_chart(data)"
   ]
  }
 ],
 "metadata": {
  "kernelspec": {
   "display_name": "cvd",
   "language": "python",
   "name": "cvd"
  },
  "language_info": {
   "codemirror_mode": {
    "name": "ipython",
    "version": 3
   },
   "file_extension": ".py",
   "mimetype": "text/x-python",
   "name": "python",
   "nbconvert_exporter": "python",
   "pygments_lexer": "ipython3",
   "version": "3.8.1"
  }
 },
 "nbformat": 4,
 "nbformat_minor": 4
}
