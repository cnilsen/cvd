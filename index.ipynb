{
 "cells": [
  {
   "cell_type": "code",
   "execution_count": 1,
   "metadata": {},
   "outputs": [],
   "source": [
    "from datetime import datetime, date\n",
    "\n",
    "import numpy\n",
    "from matplotlib import pyplot\n",
    "import pandas\n",
    "import seaborn\n",
    "import altair\n",
    "\n",
    "import ipywidgets\n",
    "\n",
    "import cvd\n",
    "seaborn.set(style='ticks', context='paper', palette='deep')\n",
    "%matplotlib inline"
   ]
  },
  {
   "cell_type": "code",
   "execution_count": 4,
   "metadata": {},
   "outputs": [
    {
     "data": {
      "text/html": [
       "<div>\n",
       "<style scoped>\n",
       "    .dataframe tbody tr th:only-of-type {\n",
       "        vertical-align: middle;\n",
       "    }\n",
       "\n",
       "    .dataframe tbody tr th {\n",
       "        vertical-align: top;\n",
       "    }\n",
       "\n",
       "    .dataframe thead th {\n",
       "        text-align: right;\n",
       "    }\n",
       "</style>\n",
       "<table border=\"1\" class=\"dataframe\">\n",
       "  <thead>\n",
       "    <tr style=\"text-align: right;\">\n",
       "      <th></th>\n",
       "      <th>Province/State</th>\n",
       "      <th>Date</th>\n",
       "      <th>Confirmed</th>\n",
       "      <th>Recovered</th>\n",
       "      <th>Deaths</th>\n",
       "      <th>State</th>\n",
       "    </tr>\n",
       "  </thead>\n",
       "  <tbody>\n",
       "    <tr>\n",
       "      <th>13664</th>\n",
       "      <td>Adams, IN</td>\n",
       "      <td>2020-01-22</td>\n",
       "      <td>0</td>\n",
       "      <td>0</td>\n",
       "      <td>0</td>\n",
       "      <td>IN</td>\n",
       "    </tr>\n",
       "    <tr>\n",
       "      <th>13665</th>\n",
       "      <td>Adams, IN</td>\n",
       "      <td>2020-01-23</td>\n",
       "      <td>0</td>\n",
       "      <td>0</td>\n",
       "      <td>0</td>\n",
       "      <td>IN</td>\n",
       "    </tr>\n",
       "    <tr>\n",
       "      <th>13666</th>\n",
       "      <td>Adams, IN</td>\n",
       "      <td>2020-01-24</td>\n",
       "      <td>0</td>\n",
       "      <td>0</td>\n",
       "      <td>0</td>\n",
       "      <td>IN</td>\n",
       "    </tr>\n",
       "    <tr>\n",
       "      <th>13667</th>\n",
       "      <td>Adams, IN</td>\n",
       "      <td>2020-01-25</td>\n",
       "      <td>0</td>\n",
       "      <td>0</td>\n",
       "      <td>0</td>\n",
       "      <td>IN</td>\n",
       "    </tr>\n",
       "    <tr>\n",
       "      <th>13668</th>\n",
       "      <td>Adams, IN</td>\n",
       "      <td>2020-01-26</td>\n",
       "      <td>0</td>\n",
       "      <td>0</td>\n",
       "      <td>0</td>\n",
       "      <td>IN</td>\n",
       "    </tr>\n",
       "  </tbody>\n",
       "</table>\n",
       "</div>"
      ],
      "text/plain": [
       "      Province/State       Date  Confirmed  Recovered  Deaths State\n",
       "13664      Adams, IN 2020-01-22          0          0       0    IN\n",
       "13665      Adams, IN 2020-01-23          0          0       0    IN\n",
       "13666      Adams, IN 2020-01-24          0          0       0    IN\n",
       "13667      Adams, IN 2020-01-25          0          0       0    IN\n",
       "13668      Adams, IN 2020-01-26          0          0       0    IN"
      ]
     },
     "execution_count": 4,
     "metadata": {},
     "output_type": "execute_result"
    }
   ],
   "source": [
    "data = pandas.concat(\n",
    "    map(cvd.read_data, ['Confirmed', 'Recovered', 'Deaths']),\n",
    "    axis='columns'\n",
    ").reset_index().assign(Subset=lambda df: numpy.select(\n",
    "    (df['Country/Region'].isin(('US', 'Canada')), df['Country/Region'] == 'China'),\n",
    "    ('US/Canada', 'China'), 'Everywhere\\nElse'\n",
    "))\n",
    "\n",
    "cumxtab = cvd.cumulative_xtab(data, 'Subset')\n",
    "us_data = cvd.get_us_state_data(data)"
   ]
  },
  {
   "cell_type": "code",
   "execution_count": 7,
   "metadata": {},
   "outputs": [
    {
     "data": {
      "application/vnd.jupyter.widget-view+json": {
       "model_id": "611d80051bbd4e55abcb80054d8b2892",
       "version_major": 2,
       "version_minor": 0
      },
      "text/plain": [
       "interactive(children=(Dropdown(description='Pick a State:', options=(('United States', 'US'), ('Alabama', 'AL'…"
      ]
     },
     "metadata": {},
     "output_type": "display_data"
    }
   ],
   "source": [
    "dates = us_data['Date'].unique()\n",
    "options = [pandas.Timestamp(d).strftime('%m/%d') for d in dates]\n",
    "\n",
    "@ipywidgets.interact(\n",
    "    us_data=ipywidgets.fixed(us_data),\n",
    "    state=ipywidgets.Dropdown(\n",
    "        options=cvd._state_abbrev.items(),\n",
    "        value='US',\n",
    "        description='Pick a State:',\n",
    "        disabled=False\n",
    "    ),\n",
    "    dates=ipywidgets.SelectionRangeSlider(\n",
    "        index=(0, len(dates)-1),\n",
    "        options=options,\n",
    "        description='Dates',\n",
    "        disabled=False,\n",
    "        layout=ipywidgets.Layout(width='85%'),\n",
    "        continuous_update=False\n",
    "    )\n",
    ")\n",
    "def state_chart(us_data, state, dates):\n",
    "    if state == 'US':\n",
    "        data = cvd._us_data(us_data, dates)\n",
    "    else:\n",
    "        data = cvd._state_data(us_data, state, dates)\n",
    "    return cvd._area_chart(data)"
   ]
  }
 ],
 "metadata": {
  "kernelspec": {
   "display_name": "cvd",
   "language": "python",
   "name": "cvd"
  },
  "language_info": {
   "codemirror_mode": {
    "name": "ipython",
    "version": 3
   },
   "file_extension": ".py",
   "mimetype": "text/x-python",
   "name": "python",
   "nbconvert_exporter": "python",
   "pygments_lexer": "ipython3",
   "version": "3.8.1"
  }
 },
 "nbformat": 4,
 "nbformat_minor": 4
}
